{
 "cells": [
  {
   "cell_type": "code",
   "execution_count": 8,
   "id": "d669c213-da5a-4c36-83bd-1e5940f528b8",
   "metadata": {},
   "outputs": [
    {
     "name": "stdin",
     "output_type": "stream",
     "text": [
      "enter your marks 81\n"
     ]
    },
    {
     "name": "stdout",
     "output_type": "stream",
     "text": [
      "Your Grade is \"B\"\n"
     ]
    }
   ],
   "source": [
    "'Answer 1'\n",
    "\n",
    "marks = int(input('enter your marks'))\n",
    "if marks >=90:\n",
    "    print('Your Grade is \"A\"')\n",
    "elif marks >=80 and marks <=90:\n",
    "    print('Your Grade is \"B\"')\n",
    "elif marks >=60 and marks <=80:\n",
    "    print('Your Grade is \"C\"')\n",
    "else :\n",
    "    print('Your Grade is \"D\"')"
   ]
  },
  {
   "cell_type": "code",
   "execution_count": 14,
   "id": "8c1340da-799e-4f33-b7c6-0cd3d1478e71",
   "metadata": {},
   "outputs": [
    {
     "name": "stdin",
     "output_type": "stream",
     "text": [
      "enter your bike price to know about road tax 100005\n"
     ]
    },
    {
     "name": "stdout",
     "output_type": "stream",
     "text": [
      "The Road Tax on Your bike is \"15%\"\n"
     ]
    }
   ],
   "source": [
    "'Answer 2'\n",
    "\n",
    "CostPrice = int(input('enter your bike price to know about road tax'))\n",
    "if CostPrice > 100000 :\n",
    "    print('The Road Tax on Your bike is \"15%\"')\n",
    "elif CostPrice > 50000 and CostPrice <= 100000:\n",
    "    print('The Road Tax on Your bike is \"10%\"')\n",
    "else :\n",
    "    print('The Road Tax on Your bike is \"5%\"')S"
   ]
  },
  {
   "cell_type": "code",
   "execution_count": 11,
   "id": "79929556-fe25-4104-a726-e4493ee9077c",
   "metadata": {},
   "outputs": [
    {
     "name": "stdin",
     "output_type": "stream",
     "text": [
      "enter city name agra\n"
     ]
    },
    {
     "name": "stdout",
     "output_type": "stream",
     "text": [
      "monument is \"TAJ MAHAL\"\n"
     ]
    }
   ],
   "source": [
    "'Asnwer 3'\n",
    "\n",
    "city = input('enter city name')\n",
    "if city == 'delhi':\n",
    "    print('monument is \"RED FORT\"')\n",
    "if city == 'agra' :\n",
    "    print('monument is \"TAJ MAHAL\"')\n",
    "if city == 'jaipur':\n",
    "    print('monument is \"JAL MAHAL\"')"
   ]
  },
  {
   "cell_type": "code",
   "execution_count": 2,
   "id": "79faf303-e753-4848-b6e6-7fefacb489a0",
   "metadata": {},
   "outputs": [
    {
     "name": "stdin",
     "output_type": "stream",
     "text": [
      "enter your number 3\n"
     ]
    },
    {
     "data": {
      "text/plain": [
       "0"
      ]
     },
     "execution_count": 2,
     "metadata": {},
     "output_type": "execute_result"
    }
   ],
   "source": [
    "'Answer 4'\n",
    "n = int(input(\"enter your number\"))\n",
    "\n",
    "l=[]\n",
    "\n",
    "for i in range (11, n):\n",
    "    if i/3 == 0:\n",
    "        i.append (i)\n",
    "len(l)"
   ]
  },
  {
   "cell_type": "code",
   "execution_count": 1,
   "id": "0e7fa04b-4a7b-4bb0-96c8-028c6b4ec883",
   "metadata": {},
   "outputs": [
    {
     "name": "stdout",
     "output_type": "stream",
     "text": [
      "5\n",
      "10\n",
      "15\n",
      "20\n",
      "25\n",
      "30\n",
      "35\n",
      "40\n",
      "45\n",
      "50\n"
     ]
    }
   ],
   "source": [
    "\"Answer 5\"\n",
    "\n",
    "'To run block code untile certain condition is met.'\n",
    "f = 5\n",
    "while f <= 50:\n",
    "    print(f)\n",
    "    f = f + 5"
   ]
  },
  {
   "cell_type": "code",
   "execution_count": 1,
   "id": "8e5c8699-7e16-4409-82e9-354147394c44",
   "metadata": {},
   "outputs": [
    {
     "data": {
      "text/plain": [
       "'did not tech in videos leactures '"
      ]
     },
     "execution_count": 1,
     "metadata": {},
     "output_type": "execute_result"
    }
   ],
   "source": [
    "'Answer 6'\n",
    "\n",
    "'did not tech in videos leactures '"
   ]
  },
  {
   "cell_type": "code",
   "execution_count": 7,
   "id": "265f8bf2-fb0c-48cd-b58a-f1f8aa6b7a0c",
   "metadata": {},
   "outputs": [
    {
     "name": "stdout",
     "output_type": "stream",
     "text": [
      "20\n",
      "19\n",
      "18\n",
      "17\n",
      "16\n",
      "15\n",
      "14\n",
      "13\n",
      "12\n",
      "11\n",
      "10\n",
      "9\n",
      "8\n",
      "7\n",
      "6\n",
      "5\n",
      "4\n",
      "3\n",
      "2\n",
      "1\n",
      "0\n"
     ]
    }
   ],
   "source": [
    "'Answer 7'\n",
    "\n",
    "a = 20\n",
    "while a >=0:\n",
    "    print(a)\n",
    "    a = a - 1"
   ]
  },
  {
   "cell_type": "code",
   "execution_count": null,
   "id": "afacca01-1fb7-4c63-9028-09e759fadbb4",
   "metadata": {},
   "outputs": [],
   "source": []
  }
 ],
 "metadata": {
  "kernelspec": {
   "display_name": "Python 3 (ipykernel)",
   "language": "python",
   "name": "python3"
  },
  "language_info": {
   "codemirror_mode": {
    "name": "ipython",
    "version": 3
   },
   "file_extension": ".py",
   "mimetype": "text/x-python",
   "name": "python",
   "nbconvert_exporter": "python",
   "pygments_lexer": "ipython3",
   "version": "3.10.8"
  }
 },
 "nbformat": 4,
 "nbformat_minor": 5
}
